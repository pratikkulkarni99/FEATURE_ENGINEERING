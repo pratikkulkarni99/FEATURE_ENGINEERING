{
 "cells": [
  {
   "cell_type": "code",
   "execution_count": 1,
   "metadata": {},
   "outputs": [
    {
     "name": "stdout",
     "output_type": "stream",
     "text": [
      "[1.3 2.1 4.5 6.5]\n",
      "3.6\n",
      "2.046948949045872\n",
      "After Scaling\n",
      "[-1.12362353 -0.73279795  0.43967877  1.41674271]\n",
      "0.0\n",
      "0.9999999999999999\n"
     ]
    }
   ],
   "source": [
    "#standardization\n",
    "import numpy as np\n",
    "import pandas as pd\n",
    "from sklearn.preprocessing import StandardScaler"
   ]
  },
  {
   "cell_type": "code",
   "execution_count": 2,
   "metadata": {},
   "outputs": [
    {
     "data": {
      "application/javascript": [
       "\n",
       "        if (window._pyforest_update_imports_cell) { window._pyforest_update_imports_cell('import numpy as np'); }\n",
       "    "
      ],
      "text/plain": [
       "<IPython.core.display.Javascript object>"
      ]
     },
     "metadata": {},
     "output_type": "display_data"
    },
    {
     "name": "stdout",
     "output_type": "stream",
     "text": [
      "Before scaling\n",
      "[1.3 2.1 4.5 6.5]\n"
     ]
    },
    {
     "data": {
      "application/javascript": [
       "\n",
       "        if (window._pyforest_update_imports_cell) { window._pyforest_update_imports_cell('import numpy as np'); }\n",
       "    "
      ],
      "text/plain": [
       "<IPython.core.display.Javascript object>"
      ]
     },
     "metadata": {},
     "output_type": "display_data"
    },
    {
     "data": {
      "application/javascript": [
       "\n",
       "        if (window._pyforest_update_imports_cell) { window._pyforest_update_imports_cell('import numpy as np'); }\n",
       "    "
      ],
      "text/plain": [
       "<IPython.core.display.Javascript object>"
      ]
     },
     "metadata": {},
     "output_type": "display_data"
    },
    {
     "data": {
      "application/javascript": [
       "\n",
       "        if (window._pyforest_update_imports_cell) { window._pyforest_update_imports_cell('import numpy as np'); }\n",
       "    "
      ],
      "text/plain": [
       "<IPython.core.display.Javascript object>"
      ]
     },
     "metadata": {},
     "output_type": "display_data"
    },
    {
     "name": "stdout",
     "output_type": "stream",
     "text": [
      "3.6\n"
     ]
    },
    {
     "data": {
      "application/javascript": [
       "\n",
       "        if (window._pyforest_update_imports_cell) { window._pyforest_update_imports_cell('import numpy as np'); }\n",
       "    "
      ],
      "text/plain": [
       "<IPython.core.display.Javascript object>"
      ]
     },
     "metadata": {},
     "output_type": "display_data"
    },
    {
     "name": "stdout",
     "output_type": "stream",
     "text": [
      "2.046948949045872\n",
      "After Scaling\n",
      "[-1.12362353 -0.73279795  0.43967877  1.41674271]\n"
     ]
    },
    {
     "data": {
      "application/javascript": [
       "\n",
       "        if (window._pyforest_update_imports_cell) { window._pyforest_update_imports_cell('import numpy as np'); }\n",
       "    "
      ],
      "text/plain": [
       "<IPython.core.display.Javascript object>"
      ]
     },
     "metadata": {},
     "output_type": "display_data"
    },
    {
     "name": "stdout",
     "output_type": "stream",
     "text": [
      "0.0\n"
     ]
    },
    {
     "data": {
      "application/javascript": [
       "\n",
       "        if (window._pyforest_update_imports_cell) { window._pyforest_update_imports_cell('import numpy as np'); }\n",
       "    "
      ],
      "text/plain": [
       "<IPython.core.display.Javascript object>"
      ]
     },
     "metadata": {},
     "output_type": "display_data"
    },
    {
     "name": "stdout",
     "output_type": "stream",
     "text": [
      "0.9999999999999999\n"
     ]
    }
   ],
   "source": [
    "data=np.array([1.3,2.1,4.5,6.5])\n",
    "print('Before scaling')\n",
    "print(data)\n",
    "\n",
    "mean=np.mean(data)\n",
    "std=np.std(data)\n",
    "print(np.mean(data))\n",
    "print(np.std(data))\n",
    "\n",
    "#data-mean/std\n",
    "scaled_data=(data-mean)/std\n",
    "print(\"After Scaling\")\n",
    "print(scaled_data)\n",
    "print(np.mean(scaled_data))\n",
    "print(np.std(scaled_data))"
   ]
  },
  {
   "cell_type": "code",
   "execution_count": 4,
   "metadata": {},
   "outputs": [
    {
     "name": "stdout",
     "output_type": "stream",
     "text": [
      "[[1.3]\n",
      " [2.1]\n",
      " [4.5]\n",
      " [6.5]]\n",
      "3.6\n",
      "2.046948949045872\n",
      "After Scaling\n",
      "[[-1.12362353]\n",
      " [-0.73279795]\n",
      " [ 0.43967877]\n",
      " [ 1.41674271]]\n",
      "0.0\n",
      "0.9999999999999999\n"
     ]
    }
   ],
   "source": [
    "m=StandardScaler()   #setting standardscaler\n",
    "data=np.array([1.3,2.1,4.5,6.5])  #creating an array\n",
    "data=data.reshape(-1,1)    #as we have no of columns we will shape it to single column\n",
    "print(data)\n",
    "\n",
    "#fit_transform\n",
    "m.fit(data)      #fitting a data \n",
    "m.fit_transform(data)     #fit and transform\n",
    "mean=np.mean(data)       #mean of data\n",
    "std=np.std(data)       #std deviation of data\n",
    "print(np.mean(data))        \n",
    "print(np.std(data))  \n",
    "\n",
    "#data-mean/std\n",
    "scaled_data=(data-mean)/std    #scaling a data \n",
    "print(\"After Scaling\")     #values after scaling\n",
    "print(scaled_data)         #getting scaled data \n",
    "print(np.mean(scaled_data))\n",
    "print(np.std(scaled_data))"
   ]
  },
  {
   "cell_type": "markdown",
   "metadata": {},
   "source": [
    "### TRNASFORMATION ON DATA SET"
   ]
  },
  {
   "cell_type": "code",
   "execution_count": 9,
   "metadata": {},
   "outputs": [
    {
     "name": "stdout",
     "output_type": "stream",
     "text": [
      "StandardScaler()\n",
      "3.8769692923418165e-16\n",
      "1.0\n",
      "6.684808430933005\n",
      "After fit transform\n",
      "3.8769692923418165e-16\n",
      "1.0\n",
      "6.684808430933005\n"
     ]
    }
   ],
   "source": [
    "from sklearn.preprocessing import StandardScaler\n",
    "df= pd.read_csv(\"C:\\\\Users\\\\Pratik1\\\\Desktop\\\\dataset\\\\data's\\\\Bodyfat.csv\")\n",
    "# df=df.reshape(-1,1)\n",
    "s=StandardScaler()\n",
    "a=s.fit(df)\n",
    "print(a)\n",
    "sd_data=s.transform(df)\n",
    "sd_data\n",
    "\n",
    "print(np.mean(sd_data))\n",
    "print(np.std(sd_data))\n",
    "print(np.max(sd_data))\n",
    "\n",
    "print(\"After fit transform\")\n",
    "sd_data=s.fit_transform(df)\n",
    "print(np.mean(sd_data))\n",
    "print(np.std(sd_data))\n",
    "print(np.max(sd_data))"
   ]
  },
  {
   "cell_type": "code",
   "execution_count": 6,
   "metadata": {},
   "outputs": [
    {
     "data": {
      "text/plain": [
       "Index(['Density', 'bodyfat', 'Age', 'Weight', 'Height', 'Neck', 'Chest',\n",
       "       'Abdomen', 'Hip', 'Thigh', 'Knee', 'Ankle', 'Biceps', 'Forearm',\n",
       "       'Wrist'],\n",
       "      dtype='object')"
      ]
     },
     "execution_count": 6,
     "metadata": {},
     "output_type": "execute_result"
    }
   ],
   "source": [
    "df.columns"
   ]
  },
  {
   "cell_type": "markdown",
   "metadata": {},
   "source": [
    "### TRAIN TEST SPLIT"
   ]
  },
  {
   "cell_type": "code",
   "execution_count": 13,
   "metadata": {},
   "outputs": [
    {
     "name": "stdout",
     "output_type": "stream",
     "text": [
      "     Pregnancies  Glucose  BloodPressure  SkinThickness  Insulin   BMI  \\\n",
      "0              6      148             72             35        0  33.6   \n",
      "1              1       85             66             29        0  26.6   \n",
      "2              8      183             64              0        0  23.3   \n",
      "3              1       89             66             23       94  28.1   \n",
      "4              0      137             40             35      168  43.1   \n",
      "..           ...      ...            ...            ...      ...   ...   \n",
      "763           10      101             76             48      180  32.9   \n",
      "764            2      122             70             27        0  36.8   \n",
      "765            5      121             72             23      112  26.2   \n",
      "766            1      126             60              0        0  30.1   \n",
      "767            1       93             70             31        0  30.4   \n",
      "\n",
      "     DiabetesPedigreeFunction  Age  Outcome  \n",
      "0                       0.627   50        1  \n",
      "1                       0.351   31        0  \n",
      "2                       0.672   32        1  \n",
      "3                       0.167   21        0  \n",
      "4                       2.288   33        1  \n",
      "..                        ...  ...      ...  \n",
      "763                     0.171   63        0  \n",
      "764                     0.340   27        0  \n",
      "765                     0.245   30        0  \n",
      "766                     0.349   47        1  \n",
      "767                     0.315   23        0  \n",
      "\n",
      "[768 rows x 9 columns]\n"
     ]
    }
   ],
   "source": [
    "#loading a diabetes dataset\n",
    "df=pd.read_csv(\"C:\\\\Users\\\\Pratik1\\\\Desktop\\\\dataset\\\\data's\\\\diabetes.csv\")  \n",
    "print(df)"
   ]
  },
  {
   "cell_type": "code",
   "execution_count": 12,
   "metadata": {},
   "outputs": [
    {
     "name": "stdout",
     "output_type": "stream",
     "text": [
      "Index(['Pregnancies', 'Glucose', 'BloodPressure', 'SkinThickness', 'Insulin',\n",
      "       'BMI', 'DiabetesPedigreeFunction', 'Age'],\n",
      "      dtype='object')\n",
      "Index(['Pregnancies', 'Glucose', 'BloodPressure', 'SkinThickness', 'Insulin',\n",
      "       'BMI', 'DiabetesPedigreeFunction', 'Age'],\n",
      "      dtype='object')\n"
     ]
    },
    {
     "data": {
      "application/javascript": [
       "\n",
       "        if (window._pyforest_update_imports_cell) { window._pyforest_update_imports_cell('from sklearn.model_selection import train_test_split\\nimport numpy as np'); }\n",
       "    "
      ],
      "text/plain": [
       "<IPython.core.display.Javascript object>"
      ]
     },
     "metadata": {},
     "output_type": "display_data"
    },
    {
     "name": "stdout",
     "output_type": "stream",
     "text": [
      "(614, 8)\n",
      "(154, 8)\n",
      "(614,)\n",
      "(154,)\n"
     ]
    }
   ],
   "source": [
    "x=df.iloc[:,0:8]\n",
    "print(x.columns)\n",
    "x=df.drop(columns=[\"Outcome\"])\n",
    "print(x.columns)\n",
    "\n",
    "y=df[\"Outcome\"]\n",
    "xtrain,xtest,ytrain,ytest=train_test_split(x,y,test_size=0.2)\n",
    "print(xtrain.shape)\n",
    "print(xtest.shape)\n",
    "print(ytrain.shape)\n",
    "print(ytest.shape)"
   ]
  },
  {
   "cell_type": "code",
   "execution_count": null,
   "metadata": {},
   "outputs": [],
   "source": []
  }
 ],
 "metadata": {
  "kernelspec": {
   "display_name": "Python 3",
   "language": "python",
   "name": "python3"
  },
  "language_info": {
   "codemirror_mode": {
    "name": "ipython",
    "version": 3
   },
   "file_extension": ".py",
   "mimetype": "text/x-python",
   "name": "python",
   "nbconvert_exporter": "python",
   "pygments_lexer": "ipython3",
   "version": "3.7.3"
  }
 },
 "nbformat": 4,
 "nbformat_minor": 2
}
